{
  "nbformat": 4,
  "nbformat_minor": 0,
  "metadata": {
    "colab": {
      "provenance": []
    },
    "language_info": {
      "codemirror_mode": {
        "name": "ipython",
        "version": 3
      },
      "file_extension": ".py",
      "mimetype": "text/x-python",
      "name": "python",
      "nbconvert_exporter": "python",
      "pygments_lexer": "ipython3",
      "version": "3.7.3"
    },
    "kernelspec": {
      "name": "python3",
      "display_name": "Python 3"
    },
    "accelerator": "GPU"
  },
  "cells": [
    {
      "cell_type": "markdown",
      "metadata": {
        "id": "6Y8mytY6WVcF"
      },
      "source": [
        "#Tutorial on CNN\n",
        "We try to build a DNN that recognize if an image contains a rectangle or a circle, count how many rectangle and circles are there or find where in the image the rectangle/circle is."
      ]
    },
    {
      "cell_type": "markdown",
      "metadata": {
        "id": "uxgS64DmqCrH"
      },
      "source": [
        "## Import useful stuff"
      ]
    },
    {
      "cell_type": "code",
      "metadata": {
        "id": "jO_-Tguu60O9"
      },
      "source": [
        "from keras.layers import #FILL ME# Which layers will be needed in a CNN ?\n",
        "from keras.models import Model\n",
        "import numpy as np\n",
        "from math import *\n",
        "from matplotlib import pyplot as plt"
      ],
      "execution_count": null,
      "outputs": []
    },
    {
      "cell_type": "markdown",
      "metadata": {
        "id": "JcejQQHu8WQa"
      },
      "source": [
        "## Lets generate some data\n",
        "\n",
        "We now generate ourself some images with a circle or a rectangle, of random color, in a random position.\n",
        "\n",
        "Three different modes of generating the images are implemented:\n",
        "\n",
        "*   A single shape per figure\n",
        "*   Multiple shapes mixed in each figure\n",
        "*   A single figure keeping track of the \"bounding box\"\n",
        "\n",
        "\n",
        "\n",
        "### Additional Exercise\n",
        "1. Try adding some random noise in the image background\n",
        "2. Try adding more classes such e.g. Lines or Ellipses\n"
      ]
    },
    {
      "cell_type": "code",
      "metadata": {
        "id": "LGItu2U4lVh7"
      },
      "source": [
        "import cv2\n",
        "\n",
        "simple =False #single shape per figure\n",
        "mixed  =False #multi shapes per figure\n",
        "withBB =True  #one shape with bounding boxes\n",
        "\n",
        "def background():\n",
        "  return np.zeros((64,64,3), np.uint8) #EX# How would you change this to add some background noise?\n",
        "\n",
        "def randomColor():\n",
        "  return (int(np.random.rand()*128+128),int(np.random.rand()*128+128),int(np.random.rand()*128+128))\n",
        "\n",
        "def drawCircle(c,x,y,r):\n",
        "  img = background()\n",
        "  cv2.circle(img,(x,y),r,c, -1)\n",
        "  return img,x-r,y-r,x+r,y+r   #return image and bounding box\n",
        "\n",
        "def genCircle():\n",
        "  return drawCircle(randomColor(),int(np.random.rand()*50)+10,int(np.random.rand()*50)+10,\n",
        "                    int(np.random.rand()*6)+3)\n",
        "\n",
        "def drawRectangle(c,x,y,w,h):\n",
        "  img = background()\n",
        "  cv2.rectangle(img,(x,y),((x+w),(y+h)), c, -1)\n",
        "  return img,x,y,x+w,y+h #return image and bounding box\n",
        "\n",
        "def genRectangle():\n",
        "  return drawRectangle(randomColor(),int(np.random.rand()*40)+10,int(np.random.rand()*40)+10,\n",
        "                       int(np.random.rand()*12)+5,int(np.random.rand()*12)+5)\n",
        "\n",
        "def genN(f,i): # generate multiple shapes\n",
        "  img = np.zeros((64,64,3), np.uint8)\n",
        "  for x in range(i):\n",
        "    img+=f()[0] #discard bb info, take only image\n",
        "  return img\n",
        "\n",
        "nsamples=10000\n",
        "\n",
        "#produce figures with either a rectangle or a circle\n",
        "if simple :\n",
        "  targets=np.random.rand(nsamples)>0.5 #np.array([np.random.rand()>0.5 for x in range(nsamples) ])\n",
        "  images=np.array([genCircle()[0] if targets[x] else genRectangle()[0] for x in range(nsamples)])\n",
        "\n",
        "#produce figure with n rectangles and m circles\n",
        "if mixed:\n",
        "  targets=np.array([(int(np.random.rand()*4),int(np.random.rand()*4)) for x in range(nsamples) ])\n",
        "  images=np.array([genN(genRectangle,targets[x,0])+genN(genCircle,targets[x,1]) for x in range(nsamples)])\n",
        "\n",
        "if withBB :\n",
        "#produce figures with either a rectangle or a circle\n",
        "  targets=np.random.rand(nsamples)>0.5 #np.array([np.random.rand()>0.5 for x in range(nsamples) ])\n",
        "  imagesWithBB=[genCircle() if targets[x] else genRectangle() for x in range(nsamples)]\n",
        "  images=np.array([imagesWithBB[x][0] for x in range(nsamples)])\n",
        "  boundingBoxes=np.array([imagesWithBB[x][1:] for x in range(nsamples)])\n"
      ],
      "execution_count": null,
      "outputs": []
    },
    {
      "cell_type": "markdown",
      "metadata": {
        "id": "XArMXTtMW97o"
      },
      "source": [
        "Let's show a few of the generated images"
      ]
    },
    {
      "cell_type": "code",
      "metadata": {
        "id": "YiUPPdZ6pNsi"
      },
      "source": [
        "\n",
        "#FILL ME# print the shape of the images and target data\n",
        "#FILL ME# print the the first N entries of the target data\n",
        "print(targets[:4])\n",
        "#show the first 4 images#\n",
        "for i in range(4):\n",
        "\n",
        "\n",
        "#\n",
        "if withBB:\n",
        "#  FILL ME#  print bounding box shapes and first N entries\n",
        "\n",
        ""
      ],
      "execution_count": null,
      "outputs": []
    },
    {
      "cell_type": "markdown",
      "metadata": {
        "id": "qeU8chiYxtSu"
      },
      "source": [
        "\n",
        "## Additional Exercise\n",
        "3. If we have more categories (let say N) we should use a categorical label that is a vector of length N with 1 on the category(/ies) the image belong to and 0 in the others. Try to build a categorical label for two categories\n",
        "\n",
        "4. Expand the categorical label to  Ellispes or  Lines  and possibly also non exclusive categories such has 2D vs 1D objects"
      ]
    },
    {
      "cell_type": "code",
      "metadata": {
        "id": "MN1px9PfBp9y"
      },
      "source": [
        "#QUESTION# What are the tensors now corresponding to \"X\" and \"y\"  ?\n",
        "if withBB :\n",
        "    y=[targets,boundingBoxes]\n",
        "else:\n",
        "    y=targets\n",
        "\n",
        "X=images"
      ],
      "execution_count": null,
      "outputs": []
    },
    {
      "cell_type": "markdown",
      "metadata": {
        "id": "3NibVPZhC3hL"
      },
      "source": [
        "# Let's build a CNN\n",
        "\n",
        "Now we build our first CNN. We have some Conv layers interleaved with MaxPooling, and finally we flatten the output of the convolutional stack and appply a Dense FF:\n",
        "![alt text](https://missinglink.ai/wp-content/uploads/2019/08/LeNet-5-1998.png)\n",
        "\n",
        "\n",
        "### MaxPooling\n",
        "![alt text](https://computersciencewiki.org/images/8/8a/MaxpoolSample2.png)\n",
        "\n",
        "### Additional Exercise\n",
        "5. Try adding/removing convolutional layers, change the kernel size, try to add dropout\n",
        "6. Try changing the model to categorical labels, change loss function from binary_crossentropy to categorical_crossentropy, and use softmax activation instead of sigmoid\n"
      ]
    },
    {
      "cell_type": "code",
      "metadata": {
        "id": "pJLV4GOu9vGu"
      },
      "source": [
        "noConv = False\n",
        "\n",
        "\n",
        "inputs=Input(shape=(64,64,3 )) #FILL ME# What is the input shape?\n",
        "if not noConv :\n",
        "# try building a CNN with three 2D Conv layers with a number of filters between 3 and 10\n",
        "# interleave them with with Max  pooling layers\n",
        "# then use the \"Flatten\" layer to forget the multidimensional shape\n",
        "else :\n",
        "  #if we do not use convolution, we can just flatten the input tensor as first layer\n",
        "  hidden= Flatten()(inputs)\n",
        "\n",
        "# after the convolutional part we use standard FeedForward dense layers to further process\n",
        "hidden=  Dense(50, activation='relu')(hidden)\n",
        "hidden=  Dense(20, activation='relu')(hidden)\n",
        "hidden=  Dense(10, activation='relu')(hidden)\n",
        "\n",
        "#FILL ME# now let's try to decide the output layer, the activation and the loss based on the problem we have\n",
        "if simple :\n",
        "  outputs =  #FILLME# what is the output shape in this case? which activation?\n",
        "  loss=\"\"  # [0,1] classification hence loss should be => .... ?\n",
        "if mixed :\n",
        "  outputs = None #FILL ME#  Here we want to predict how many rect? and how many Circ?\n",
        "  loss='' #FILLME#\n",
        "if withBB : #In this case we have two separate output layers, two target tensors, two losses\n",
        "  output1 = Dense(1, activation='sigmoid')(hidden) #FILLME# which activation for the circle vs rectangle classification?\n",
        "  output2 = Dense(4)(hidden) #FILLME# which activation to predict the 4 numbers of the bounding box ?\n",
        "  outputs=[output1,output2]\n",
        "  loss=[\"\",\"\"] #FILL ME # And which loss for each of the two outputs? (the final loss will be the sum unless we give them some additional weights)\n",
        "\n",
        "\n",
        "model = Model(inputs=inputs, outputs=outputs)\n",
        "model.compile(loss=loss, optimizer='adam',metrics=['accuracy'])\n",
        "\n",
        "model.summary()\n",
        "from tensorflow.keras.utils import plot_model\n",
        "if withBB:\n",
        "#FILL ME#  try to print the graph of the network in this case\n",
        "   plot_model(model, show_shapes=True, show_layer_names=True, to_file='model.png')\n",
        "   from IPython.display import Image\n",
        "   Image(retina=True, filename='model.png')"
      ],
      "execution_count": null,
      "outputs": []
    },
    {
      "cell_type": "markdown",
      "metadata": {
        "id": "S6JmJFU-9vtN"
      },
      "source": [
        "And now let's fit it to our data.\n",
        "The sample is automatically split in two so that 50% of it is used for validation and the other half for training\n"
      ]
    },
    {
      "cell_type": "code",
      "metadata": {
        "id": "KRMhsQ2nC6oa"
      },
      "source": [
        "history=model.fit(X,y,validation_split=0.5,epochs=150) #FILL ME# Who are \"X\" and \"y\" here?"
      ],
      "execution_count": null,
      "outputs": []
    },
    {
      "cell_type": "markdown",
      "metadata": {
        "id": "DKGPKoUU0Ou0"
      },
      "source": [
        "*history* contains information about the training.  We can now now show the loss vs epoch for both validation and training samples.\n",
        "\n",
        "\n"
      ]
    },
    {
      "cell_type": "code",
      "metadata": {
        "id": "lu2OdNE5OeXb"
      },
      "source": [
        "print(history.history.keys())\n",
        "plt.plot(history.history[\"val_loss\"])\n",
        "plt.plot(history.history[\"loss\"])\n",
        "plt.show()\n",
        "#try plotting the separate loss components in the case of the bounding box problem\n",
        "#plt.plot(history.history[...]\n",
        "#plt.plot(history.history[...]\n",
        "#plt.plot(history.history[...]\n",
        "#plt.plot(history.history[...]\n",
        "#plt.yscale('log')\n",
        "\n",
        "#for classification problem you can plot also the accuracy metric\n",
        "#plt.plot(history.history[\"val_accuracy\"])\n",
        "#plt.plot(history.history[\"accuracy\"])\n",
        "#plt.show()\n"
      ],
      "execution_count": null,
      "outputs": []
    },
    {
      "cell_type": "markdown",
      "metadata": {
        "id": "AWGckuGjZRjm"
      },
      "source": [
        "Let's try to create a new image and evaluate it"
      ]
    },
    {
      "cell_type": "code",
      "metadata": {
        "id": "ej1RCfrcZPLp"
      },
      "source": [
        "#FILL ME# try to generate a new circle and check if the network recognizes it\n",
        "\n",
        "print(\"It is a\",\"circle\" if #FILL ME# else \"rectangle\" )\n",
        "\n",
        "\n",
        "if mixed :\n",
        "  im= genCircle()[0]+genRectangle()[0]+genRectangle()[0]\n",
        "  #FILL ME#try predicting on the \"im\" generated above... how do we access the number of predicted objects?\n",
        "  #print(\"In this image there are %s rectangle and %s circles\"%(....,....))\n",
        "  plt.imshow(im)\n",
        "  plt.show()\n",
        "\n",
        "if withBB:\n",
        "  im,x1,y1,x2,y2= genCircle()\n",
        "  pre=model.predict(np.expand_dims(im,axis=0) )\n",
        "  isCircle=pre[0][0]\n",
        "  x1p=pre[1][0][0]-1.\n",
        "  y1p=pre[1][0][1]-1.\n",
        "  x2p=pre[1][0][2]+1.\n",
        "  y2p=pre[1][0][3]+1.\n",
        "  print(x1p,y1p,x2p,y2p)\n",
        "  #print(\"Looks like a\", (\"circle\" if model.predict(np.expand_dims(im,axis=0) )[0,1] > 0.5 else \"rectangle\"))\n",
        "  print(\"It is a\",\"circle\" if isCircle > 0.5 else \"rectangle\" )\n",
        "  cv2.rectangle(im,(x1-1,y1-1),(x2+1,y2+1), (255,0,0), 1)\n",
        "  cv2.rectangle(im,(int(x1p),int(y1p)),(int(x2p),int(y2p)), (255,255,0), 1)\n",
        "  plt.imshow(im)\n",
        "  plt.show()\n"
      ],
      "execution_count": null,
      "outputs": []
    }
  ]
}