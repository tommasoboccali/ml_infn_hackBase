{
 "cells": [
  {
   "cell_type": "code",
   "execution_count": null,
   "id": "b0795016",
   "metadata": {},
   "outputs": [],
   "source": [
    "!wget https://pandora.infn.it/public/141790/dl/Putto_Area1_fiori.npz"
   ]
  }
 ],
 "metadata": {
  "kernelspec": {
   "display_name": "Python 3",
   "language": "python",
   "name": "python3"
  },
  "language_info": {
   "codemirror_mode": {
    "name": "ipython",
    "version": 3
   },
   "file_extension": ".py",
   "mimetype": "text/x-python",
   "name": "python",
   "nbconvert_exporter": "python",
   "pygments_lexer": "ipython3",
   "version": "3.6.9"
  }
 },
 "nbformat": 4,
 "nbformat_minor": 5
}