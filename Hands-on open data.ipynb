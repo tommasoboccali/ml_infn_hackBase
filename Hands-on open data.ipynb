{
 "cells": [
  {
   "cell_type": "code",
   "execution_count": null,
   "id": "fd8ad9df",
   "metadata": {},
   "outputs": [],
   "source": [
    "import numpy as np\n",
    "import pandas as pd\n",
    "\n",
    "df = pd.read_csv(\"https://opendata.cern.ch/record/5202/files/Dimuon_SingleMu.csv\")"
   ]
  },
  {
   "cell_type": "code",
   "execution_count": null,
   "id": "3851303b",
   "metadata": {},
   "outputs": [],
   "source": [
    "df"
   ]
  },
  {
   "cell_type": "code",
   "execution_count": null,
   "id": "6aa7c5cb",
   "metadata": {},
   "outputs": [],
   "source": [
    "type(df['Run'].values)"
   ]
  },
  {
   "cell_type": "code",
   "execution_count": null,
   "id": "fb81bd3c",
   "metadata": {},
   "outputs": [],
   "source": [
    "px1 = df['px1']\n",
    "py1 = df['py1']\n",
    "pz1 = df['pz1']\n",
    "\n",
    "p1 = np.sqrt ( px1**2 + py1**2 + pz1**2 )"
   ]
  },
  {
   "cell_type": "code",
   "execution_count": null,
   "id": "50fe2010",
   "metadata": {},
   "outputs": [],
   "source": [
    "type (p1)\n",
    "px1.dtype"
   ]
  },
  {
   "cell_type": "code",
   "execution_count": null,
   "id": "91a6e566",
   "metadata": {},
   "outputs": [],
   "source": [
    "df['p1'] = p1"
   ]
  },
  {
   "cell_type": "code",
   "execution_count": null,
   "id": "b1ce413e",
   "metadata": {},
   "outputs": [],
   "source": [
    "df"
   ]
  },
  {
   "cell_type": "code",
   "execution_count": null,
   "id": "2a8d74cd",
   "metadata": {},
   "outputs": [],
   "source": [
    "mask = p1 > 10"
   ]
  },
  {
   "cell_type": "code",
   "execution_count": null,
   "id": "f39423b6",
   "metadata": {},
   "outputs": [],
   "source": [
    "print (type(mask))\n",
    "mask"
   ]
  },
  {
   "cell_type": "code",
   "execution_count": null,
   "id": "b7e33152",
   "metadata": {},
   "outputs": [],
   "source": [
    "df[mask]"
   ]
  },
  {
   "cell_type": "code",
   "execution_count": null,
   "id": "16d612d2",
   "metadata": {},
   "outputs": [],
   "source": [
    "p2 = np.sqrt(df[mask]['px2']**2 + df[mask]['py2']**2 + df[mask]['pz2']**2)\n"
   ]
  },
  {
   "cell_type": "code",
   "execution_count": null,
   "id": "dc174449",
   "metadata": {},
   "outputs": [],
   "source": [
    " df['p2'] = p2"
   ]
  },
  {
   "cell_type": "code",
   "execution_count": null,
   "id": "5760dccb",
   "metadata": {},
   "outputs": [],
   "source": [
    "df.query (\"p1 > p2\")"
   ]
  },
  {
   "cell_type": "code",
   "execution_count": null,
   "id": "b7c40d38",
   "metadata": {},
   "outputs": [],
   "source": [
    "mask1 = df['pt1'] > 10\n",
    "mask2 = df['pt2'] > 10 \n",
    "\n",
    "\n",
    "df [(df['pt1'] > 10) & (df['pt2'] > 10)] == df.query (\"pt1 > 10 and pt2 > 10\")"
   ]
  },
  {
   "cell_type": "code",
   "execution_count": null,
   "id": "0e1a8907",
   "metadata": {},
   "outputs": [],
   "source": [
    "df.eval(\"pT1 = sqrt(px1**2 + px2**2)\")"
   ]
  },
  {
   "cell_type": "code",
   "execution_count": null,
   "id": "8e87ce62",
   "metadata": {},
   "outputs": [],
   "source": []
  },
  {
   "cell_type": "code",
   "execution_count": null,
   "id": "841e8940",
   "metadata": {},
   "outputs": [],
   "source": [
    "import matplotlib.pyplot as plt\n",
    "\n",
    "contents, boundaries, graphicsthings = plt.hist ( df.query('M < 120')['M'], bins=100 )\n",
    "plt.xlabel(\"Mass\")\n",
    "plt.ylabel(\"Number of dimuons\")\n",
    "plt.show()"
   ]
  },
  {
   "cell_type": "code",
   "execution_count": null,
   "id": "ec2594db",
   "metadata": {},
   "outputs": [],
   "source": [
    "def f():\n",
    "    return \"pippo\", \"goofy\"\n",
    "\n",
    "first_result, second_result = f()\n",
    "\n",
    "first_result"
   ]
  },
  {
   "cell_type": "code",
   "execution_count": null,
   "id": "af8adcd2",
   "metadata": {},
   "outputs": [],
   "source": [
    "result = plt.hist ( df.query('M < 120')['M'], bins=100 )"
   ]
  },
  {
   "cell_type": "code",
   "execution_count": null,
   "id": "675b94d4",
   "metadata": {},
   "outputs": [],
   "source": [
    "sdf = df.query (\"M < 120\")\n",
    "contents, boundaries, graphicsthings = plt.hist ( sdf['M'], bins=100, density = True )\n",
    "plt.hist ( sdf['M'], bins=1000, histtype='step', linewidth=1, density=True )\n",
    "plt.xlabel(\"Mass\")\n",
    "plt.ylabel(\"Number of dimuons\")\n",
    "plt.show()"
   ]
  },
  {
   "cell_type": "code",
   "execution_count": null,
   "id": "a68ee723",
   "metadata": {},
   "outputs": [],
   "source": [
    "plt.figure(figsize=(10,6), dpi=120)\n",
    "plt.plot (df['pt1'], df['pt2'], '.', markersize=0.1, alpha=0.5)\n",
    "plt.xscale('log')\n",
    "plt.yscale('log')"
   ]
  },
  {
   "cell_type": "code",
   "execution_count": null,
   "id": "2307d18a",
   "metadata": {},
   "outputs": [],
   "source": [
    "x = []\n",
    "y = []\n",
    "\n",
    "for i in range(10):\n",
    "    x.append (i)\n",
    "    y.append (i**2)\n",
    "    \n",
    "plt.plot (x, y, 'ro-')\n",
    "plt.xlabel(\"Some x variable\")\n",
    "plt.ylabel(\"The variable $y = x^2$\")\n",
    "plt.show()"
   ]
  },
  {
   "cell_type": "code",
   "execution_count": null,
   "id": "a73d9c79",
   "metadata": {},
   "outputs": [],
   "source": []
  }
 ],
 "metadata": {
  "kernelspec": {
   "display_name": "Python 3 (ipykernel)",
   "language": "python",
   "name": "python3"
  },
  "language_info": {
   "codemirror_mode": {
    "name": "ipython",
    "version": 3
   },
   "file_extension": ".py",
   "mimetype": "text/x-python",
   "name": "python",
   "nbconvert_exporter": "python",
   "pygments_lexer": "ipython3",
   "version": "3.8.10"
  }
 },
 "nbformat": 4,
 "nbformat_minor": 5
}
