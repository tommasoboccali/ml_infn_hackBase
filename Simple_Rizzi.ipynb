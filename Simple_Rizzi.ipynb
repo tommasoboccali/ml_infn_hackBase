{
 "cells": [
  {
   "cell_type": "markdown",
   "metadata": {
    "colab_type": "text",
    "id": "view-in-github"
   },
   "source": [
    "<a href=\"https://colab.research.google.com/github/tommasoboccali/ml_infn_hackBase/blob/main/Simple_Rizzi.ipynb\" target=\"_parent\"><img src=\"https://colab.research.google.com/assets/colab-badge.svg\" alt=\"Open In Colab\"/></a>"
   ]
  },
  {
   "cell_type": "markdown",
   "metadata": {
    "id": "aDJAKBQEG2yH"
   },
   "source": [
    "Create a **classifier** using either a shallow Neural Network (such as MLP with a single hidden layer) or a Deep Network.\n",
    "The classifier can take as input some user generated data, e.g. a partition of the [0,1]x[0,1] square (x1 > x2^2).\n",
    "\n",
    "Complete the code below where indicated\n",
    "\n",
    "Use Keras docs as needed https://keras.io/api/\n"
   ]
  },
  {
   "cell_type": "code",
   "execution_count": null,
   "metadata": {
    "id": "2QK3-HsLduDP"
   },
   "outputs": [],
   "source": [
    "import numpy as np\n",
    "import matplotlib.pyplot as plt\n",
    "from matplotlib.colors import ListedColormap\n",
    "from keras.layers import Input, Dense #FILL HERE#<- which layers are needed as a bare minimum to build a NLP or a feed fwd deep net?\n",
    "from keras.models import Model\n",
    "\n"
   ]
  },
  {
   "cell_type": "markdown",
   "metadata": {
    "id": "lJzw9uDDkl4-"
   },
   "source": [
    "Generate some data"
   ]
  },
  {
   "cell_type": "code",
   "execution_count": null,
   "metadata": {
    "colab": {
     "base_uri": "https://localhost:8080/"
    },
    "id": "xtRimT1ZgHrB",
    "outputId": "bfa8bab9-18b5-4f68-b15b-b25ea7aa7a7a"
   },
   "outputs": [],
   "source": [
    "from math import *\n",
    "# Fixing random state for reproducibility\n",
    "np.random.seed(123)\n",
    "\n",
    "#try changing this\n",
    "theFunction = lambda x1,x2 : np.sin(x1*20) > x2  #FILL HERE# Try using a different function, keep in mind x1 and x2 are numpy arrays!\n",
    "\n",
    "N=3000\n",
    "x1 = 1.0 * np.random.rand(N)\n",
    "x2 = 1.0 * np.random.rand(N)\n",
    "y=theFunction(x1,x2) \n",
    "\n",
    "\n",
    "print(x1[:10])\n",
    "print(x2[:10])\n",
    "X=np.stack((x1,x2),axis=1) #FILL HERE# create a matrix with two columns one with data from x1, the other from x2\n",
    "\n",
    "#FILL HERE# print the first 10 entries of X and y\n",
    "print(X[:10,:])\n",
    "print(y[:20])\n",
    "print(X.shape)"
   ]
  },
  {
   "cell_type": "markdown",
   "metadata": {
    "id": "VlleSU93fJZj"
   },
   "source": [
    "Now let's look  at the data we generated, does it look like you expect?\n"
   ]
  },
  {
   "cell_type": "code",
   "execution_count": null,
   "metadata": {
    "colab": {
     "base_uri": "https://localhost:8080/",
     "height": 282
    },
    "id": "mvmgAGwifJ54",
    "outputId": "c6421b4e-b8ca-4c9e-b81b-d066f13fa2f9"
   },
   "outputs": [],
   "source": [
    "cm_bright = ListedColormap(['#FF0000', '#0000FF'])\n",
    "plt.scatter(X[:, 0], X[:, 1], c=y, cmap=cm_bright, edgecolors='k')\n",
    "        "
   ]
  },
  {
   "cell_type": "markdown",
   "metadata": {
    "id": "LAx5ob3CIvx9"
   },
   "source": [
    "Let's compare with a colormap made using directly the generating function (remember, in real case world we will not know such function)"
   ]
  },
  {
   "cell_type": "code",
   "execution_count": null,
   "metadata": {
    "colab": {
     "base_uri": "https://localhost:8080/",
     "height": 282
    },
    "id": "jYI6LGnciNli",
    "outputId": "9c566902-0fd1-4d62-ae50-47230f5ed30c"
   },
   "outputs": [],
   "source": [
    "xx1, xx2 = np.meshgrid(np.arange(0, 1, 0.01),np.arange(0, 1, 0.01))\n",
    "plt.scatter(X[:, 0], X[:, 1], c=y, cmap=cm_bright, edgecolors='k')\n",
    "plt.contourf(xx1, xx2, (theFunction(xx1,xx2)).reshape(xx1.shape), cmap=plt.cm.RdBu, alpha=.8)"
   ]
  },
  {
   "cell_type": "code",
   "execution_count": null,
   "metadata": {
    "colab": {
     "base_uri": "https://localhost:8080/"
    },
    "id": "GaxhZcaEf7t5",
    "outputId": "3a984bd9-d3c1-43ed-9afc-774ea2cf2796"
   },
   "outputs": [],
   "source": [
    "\n",
    "inputs=Input(shape=(2)) #FILL THE DOTS# what is the shape that our input data has?\n",
    "hidden=Dense(700,activation=\"relu\")(inputs) #FILL HERE# create a new Dense layer with 500 nodes taking \"inputs\" as input , what is the most appropriate activation?\n",
    "outputs = Dense(1, activation='sigmoid')(hidden) #FILL THE DOTS# what is the most appropriate activation for the final node of a classifier?\n",
    "model = Model(inputs=inputs, outputs=outputs)\n",
    "model.compile(loss='binary_crossentropy', optimizer='adam')\n",
    "\n",
    "model.summary()\n",
    "#FILL HERE# print the model structure, it should look like\n",
    "#Layer (type)                 Output Shape              Param #   \n",
    "#=================================================================\n",
    "#input_1 (InputLayer)         [(None, 2)]               0         \n",
    "#_________________________________________________________________\n",
    "#dense (Dense)                (None, 500)               1500      \n",
    "#_________________________________________________________________\n",
    "#dense_1 (Dense)              (None, 1)                 501       \n",
    "#================================================================="
   ]
  },
  {
   "cell_type": "markdown",
   "metadata": {
    "id": "M5ehwdOfgr0E"
   },
   "source": [
    "Split the dataset in training+validation and test, then fit\n",
    "\n",
    "\n"
   ]
  },
  {
   "cell_type": "code",
   "execution_count": null,
   "metadata": {
    "colab": {
     "base_uri": "https://localhost:8080/"
    },
    "id": "0bFZUWx0grBa",
    "outputId": "9bd945a5-1170-4966-e64f-52058162a0db"
   },
   "outputs": [],
   "source": [
    "history=model.fit(X,y,validation_split=0.5,epochs=500,verbose=1) #FILL THE DOTS# What is the name of the keras function to train a model\n",
    "\n",
    "\n"
   ]
  },
  {
   "cell_type": "markdown",
   "metadata": {
    "id": "Z2t3i6gjR9Gd"
   },
   "source": [
    "In the history object a history.history dictionary contains the validation and training loss vs epoch, let's try to plot them and compare to evaluate the training"
   ]
  },
  {
   "cell_type": "code",
   "execution_count": null,
   "metadata": {
    "colab": {
     "base_uri": "https://localhost:8080/",
     "height": 319
    },
    "id": "UVl8pAReR7JZ",
    "outputId": "ed8943cf-1f56-4b82-a2b5-8edfe4c65673"
   },
   "outputs": [],
   "source": [
    "print(history.history.keys())\n",
    "print(history.history['loss'])\n",
    "plt.plot(history.history['loss'])\n",
    "plt.plot(history.history['val_loss'])\n",
    "plt.show()\n",
    "#FILL HERE#  use plt.plot(...) and plt.show() to make a plot with training vs validation\n",
    "#...\n",
    "#...\n",
    "\n"
   ]
  },
  {
   "cell_type": "markdown",
   "metadata": {
    "id": "JJv6uuKpKQxS"
   },
   "source": [
    "Now let's try to evaluate our model on the xx1,xx2 points we created earlier)"
   ]
  },
  {
   "cell_type": "code",
   "execution_count": null,
   "metadata": {
    "colab": {
     "base_uri": "https://localhost:8080/",
     "height": 282
    },
    "id": "q7Hb7a8aimDu",
    "outputId": "f9a76498-14af-4034-f571-d29dd6209e27"
   },
   "outputs": [],
   "source": [
    " \n",
    "testSet=np.stack((xx1.flatten(), xx2.flatten()), axis=-1)\n",
    "pred=model.predict(testSet) #FILL THE DOTS# what is the keras function used to evaluate?\n",
    "plt.scatter(X[:, 0], X[:, 1], c=y, cmap=cm_bright, edgecolors='k')\n",
    "plt.contourf(xx1, xx2, pred.reshape(xx1.shape), cmap=plt.cm.RdBu, alpha=.8)"
   ]
  },
  {
   "cell_type": "markdown",
   "metadata": {
    "id": "rGJqmcZLK2Vg"
   },
   "source": [
    "Now let's try to create a deep network instead with about the same number of parameters as the MLP above. Let's try with 4 hidden layers, how many nodes per layers are needed?"
   ]
  },
  {
   "cell_type": "code",
   "execution_count": null,
   "metadata": {
    "colab": {
     "base_uri": "https://localhost:8080/",
     "height": 1000
    },
    "id": "O-03NFOLrtlH",
    "outputId": "3020ee07-7422-4a58-adf3-0a449a7ebba8"
   },
   "outputs": [],
   "source": [
    "\n",
    "inputs=Input(shape=(2,))\n",
    "#FILL HERE# add 4 dense hidden layers\n",
    "#...\n",
    "#...\n",
    "hidden = Dense(40, activation='relu')(inputs)\n",
    "hidden = Dense(40, activation='relu')(hidden)\n",
    "hidden = Dense(40, activation='relu')(hidden)\n",
    "hidden = Dense(40, activation='relu')(hidden)\n",
    "outputs = Dense(1, activation='sigmoid')(hidden)\n",
    "\n",
    "deepmodel = Model(inputs=inputs, outputs=outputs)\n",
    "deepmodel.compile(loss='binary_crossentropy', optimizer='adam')\n",
    "deepmodel.summary()\n",
    "deephistory=deepmodel.fit(X,y,validation_split=0.5,epochs=1000,batch_size=128,verbose=1) #CHANGE HERE# Trying increasing number of epochs and changing batch size\n",
    "\n",
    "plt.plot(history.history[\"val_loss\"])\n",
    "plt.plot(history.history[\"loss\"])\n",
    "plt.plot(deephistory.history[\"val_loss\"])\n",
    "plt.plot(deephistory.history[\"loss\"])\n",
    "plt.show()"
   ]
  },
  {
   "cell_type": "code",
   "execution_count": null,
   "metadata": {
    "colab": {
     "base_uri": "https://localhost:8080/",
     "height": 282
    },
    "id": "h77YowW3qpi0",
    "outputId": "8eef9450-24c1-4ed8-cc64-9f3136ad8f30"
   },
   "outputs": [],
   "source": [
    " \n",
    "testSet=np.stack((xx1.flatten(), xx2.flatten()), axis=-1)\n",
    "pred=deepmodel.predict(testSet) #FILL THE DOTS# what is the keras function used to evaluate?\n",
    "plt.scatter(X[:, 0], X[:, 1], c=y, cmap=cm_bright, edgecolors='k')\n",
    "plt.contourf(xx1, xx2, pred.reshape(xx1.shape), cmap=plt.cm.RdBu, alpha=.8)"
   ]
  }
 ],
 "metadata": {
  "accelerator": "GPU",
  "colab": {
   "include_colab_link": true,
   "name": "Copy of Esercizio KerasSimple2020.ipynb",
   "provenance": []
  },
  "kernelspec": {
   "display_name": "Python 3",
   "language": "python",
   "name": "python3"
  },
  "language_info": {
   "codemirror_mode": {
    "name": "ipython",
    "version": 3
   },
   "file_extension": ".py",
   "mimetype": "text/x-python",
   "name": "python",
   "nbconvert_exporter": "python",
   "pygments_lexer": "ipython3",
   "version": "3.8.8"
  }
 },
 "nbformat": 4,
 "nbformat_minor": 1
}
