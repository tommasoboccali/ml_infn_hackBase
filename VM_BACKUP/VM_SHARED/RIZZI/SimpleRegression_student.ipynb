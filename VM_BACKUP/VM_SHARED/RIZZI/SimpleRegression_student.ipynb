{
 "cells": [
  {
   "cell_type": "code",
   "execution_count": null,
   "metadata": {
    "colab": {
     "base_uri": "https://localhost:8080/"
    },
    "id": "2QK3-HsLduDP",
    "outputId": "251c1736-97bd-4b09-81f1-bec98f17d379"
   },
   "outputs": [],
   "source": [
    "import numpy as np\n",
    "import matplotlib.pyplot as plt\n",
    "from matplotlib.colors import ListedColormap\n",
    "from keras.layers import Input,Dense,Dropout,Flatten\n",
    "from keras.models import Model\n",
    "\n",
    "import multiprocessing\n",
    "\n",
    "#!cat /proc/cpuinfo\n"
   ]
  },
  {
   "cell_type": "markdown",
   "metadata": {
    "id": "lJzw9uDDkl4-"
   },
   "source": [
    "Generate some data for a regression problem"
   ]
  },
  {
   "cell_type": "code",
   "execution_count": null,
   "metadata": {
    "colab": {
     "base_uri": "https://localhost:8080/"
    },
    "id": "xtRimT1ZgHrB",
    "outputId": "001aadf9-3112-4350-af1b-3f773c090968"
   },
   "outputs": [],
   "source": [
    "from math import *\n",
    "# Fixing random state for reproducibility\n",
    "np.random.seed(123)\n",
    "\n",
    "#FILL ME: put some function in place of this one\n",
    "theFunction = lambda x1,x2,x3,x4,x5 : (np.sin(x1*10)+x2**x3)*x4\n",
    "\n",
    "N=800\n",
    "x1 = 1.0 * np.random.rand(N)\n",
    "x2 = 1.0 * np.random.rand(N)\n",
    "x3 = 1.0 * np.random.rand(N)\n",
    "x4 = 1.0 * np.random.rand(N)\n",
    "x5 = 1.0 * np.random.rand(N)\n",
    "y=theFunction(x1,x2,x3,x4,x5) \n",
    "\n",
    "X=np.stack((x1,x2,x3,x4,x5), axis=1) \n",
    "\n",
    "print(X[:10,:])\n",
    "print(y[:10])\n"
   ]
  },
  {
   "cell_type": "markdown",
   "metadata": {
    "id": "VlleSU93fJZj"
   },
   "source": [
    "Draw the data points"
   ]
  },
  {
   "cell_type": "code",
   "execution_count": null,
   "metadata": {
    "colab": {
     "base_uri": "https://localhost:8080/",
     "height": 1000
    },
    "id": "mvmgAGwifJ54",
    "outputId": "2d6b98d4-12e8-4582-e6fd-720b294eb3fc"
   },
   "outputs": [],
   "source": [
    "for i in range(5) :\n",
    "  for j in range(i+1,5) :\n",
    " #   print(i,j)\n",
    "    plt.figure()\n",
    "    plt.scatter(X[:, i], X[:, j], c=y, cmap=plt.cm.RdBu, edgecolors='k')\n",
    "        "
   ]
  },
  {
   "cell_type": "code",
   "execution_count": null,
   "metadata": {
    "colab": {
     "base_uri": "https://localhost:8080/"
    },
    "id": "GaxhZcaEf7t5",
    "outputId": "e10f8221-c4a7-4745-a755-96cc2c33054a"
   },
   "outputs": [],
   "source": [
    "\n",
    "#Shallow network\n",
    "inputs=Input(shape=(5,))\n",
    "hidden=Dense(500, activation='relu')(inputs)\n",
    "outputs = Dense(1,activation='...')(hidden) #FILL THE DOTS#  which activation?\n",
    "model = Model(inputs=inputs, outputs=outputs)\n",
    "model.compile(loss='...', optimizer='adam') #FILL THE DOTS# which  loss ?\n",
    "\n",
    "model.summary()\n"
   ]
  },
  {
   "cell_type": "markdown",
   "metadata": {
    "id": "M5ehwdOfgr0E"
   },
   "source": [
    "Split the dataset in training+validation and test, then fit\n",
    "\n",
    "\n"
   ]
  },
  {
   "cell_type": "code",
   "execution_count": null,
   "metadata": {
    "colab": {
     "base_uri": "https://localhost:8080/",
     "height": 668
    },
    "id": "0bFZUWx0grBa",
    "outputId": "ff8df5e6-fe78-4e6b-a2a5-4af20753a5f6"
   },
   "outputs": [],
   "source": [
    "#This time we split the X,y upfront\n",
    "nsplit=int(N/2)\n",
    "\n",
    "#FILL ME# slice X and y in half and assign them to X_tr, X_val, y_tr, y_val\n",
    "X_tr=....\n",
    "X_val=....\n",
    "y_tr=....\n",
    "y_val=....\n",
    "#NB: you can use scikit learn to shuffle, coherently X and y, and split \n",
    "\n",
    "#check that the splitting makes sense\n",
    "print(X_tr[:10])\n",
    "print(y_tr[:10])\n",
    "print(X_val[:10])\n",
    "print(y_val[:10])\n",
    "\n",
    "#FILL THE DOTS# What should we put in place of X and y as \"training\" datasets? a\n",
    "history=model.fit(... ,  .... ,validation_data=(X_val,y_val),epochs=150,verbose=0) \n",
    "plt.plot(history.history[\"val_loss\"])\n",
    "plt.plot(history.history[\"loss\"])\n",
    "plt.show()\n"
   ]
  },
  {
   "cell_type": "code",
   "execution_count": null,
   "metadata": {
    "colab": {
     "base_uri": "https://localhost:8080/",
     "height": 298
    },
    "id": "k5Rv-HPpw8OA",
    "outputId": "68c91655-e082-4661-cbb0-16bc4de3ecae"
   },
   "outputs": [],
   "source": [
    "y_pred_val=model.predict(X_val)\n",
    "\n",
    "#mind the shape of the prediction....\n",
    "print(y_val.shape,y_pred_val.shape)\n",
    "\n",
    "#FILL THE DOTS# we want to define residual, sample by sample as prediction - truth... \n",
    "#Caveat: you may need to reshape\n",
    "residuals=....\n",
    "\n",
    "print(y_pred_val[0],y_val[0],residuals[0]) \n",
    "plt.hist(residuals, 20)\n",
    "plt.show()\n"
   ]
  },
  {
   "cell_type": "code",
   "execution_count": null,
   "metadata": {
    "id": "q7Hb7a8aimDu"
   },
   "outputs": [],
   "source": []
  },
  {
   "cell_type": "code",
   "execution_count": null,
   "metadata": {
    "colab": {
     "base_uri": "https://localhost:8080/",
     "height": 634
    },
    "id": "O-03NFOLrtlH",
    "outputId": "58cb3db0-5029-4cea-a505-b68d27efe9f0"
   },
   "outputs": [],
   "source": [
    "\n",
    "inputs=Input(shape=(.....))#FILL ME# what is the input shape?\n",
    "\n",
    "#FILL ME# create a deep model for regression\n",
    "x=Dense(25,activation=\"relu\")(inputs)\n",
    "x=...\n",
    "#x=Dropout(0.1)(x) #we can add some dropout\n",
    "x=....\n",
    "x=....\n",
    "x=Dense(1)(x) #No activation is same as linear\n",
    "\n",
    "deepmodel=Model(inputs=inputs,outputs=x)\n",
    "deepmodel.compile(\"adam\",\"MSE\")\n",
    "deepmodel.summary()\n",
    "deephistory=deepmodel.fit(X_tr,y_tr,validation_data=(X_val,y_val),epochs=500,verbose=0)\n",
    "\n",
    "plt.plot(history.history[\"val_loss\"])\n",
    "plt.plot(history.history[\"loss\"])\n",
    "plt.plot(deephistory.history[\"val_loss\"])\n",
    "plt.plot(deephistory.history[\"loss\"])\n",
    "plt.show()"
   ]
  },
  {
   "cell_type": "code",
   "execution_count": null,
   "metadata": {
    "colab": {
     "base_uri": "https://localhost:8080/",
     "height": 513
    },
    "id": "fbySmHJJao6_",
    "outputId": "389ac6f8-cc4a-4e10-d8e0-efd16e9ff551"
   },
   "outputs": [],
   "source": [
    "y_pred_val_deep=deepmodel.predict(X_val)\n",
    "residuals_deep=np.subtract(y_pred_val_deep[:,0],y_val)\n",
    "plt.hist(y_val, 20,range=[-1,1],alpha=0.75)\n",
    "plt.hist(y_pred_val_deep, 20,range=[-1,1],alpha=0.75)\n",
    "plt.show()\n",
    "plt.hist(residuals, 20,range=[-1,1],alpha=0.75)\n",
    "plt.hist(residuals_deep, 20,range=[-1,1],alpha=0.75)\n",
    "plt.show()"
   ]
  }
 ],
 "metadata": {
  "accelerator": "GPU",
  "colab": {
   "name": "Esercizio KerasSimpleRegression2020.ipynb",
   "provenance": []
  },
  "kernelspec": {
   "display_name": "Python 3",
   "language": "python",
   "name": "python3"
  },
  "language_info": {
   "codemirror_mode": {
    "name": "ipython",
    "version": 3
   },
   "file_extension": ".py",
   "mimetype": "text/x-python",
   "name": "python",
   "nbconvert_exporter": "python",
   "pygments_lexer": "ipython3",
   "version": "3.6.9"
  }
 },
 "nbformat": 4,
 "nbformat_minor": 1
}
